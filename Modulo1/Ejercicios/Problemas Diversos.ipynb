{
 "cells": [
  {
   "cell_type": "markdown",
   "metadata": {},
   "source": [
    "# PROBLEMAS DIVERSOS"
   ]
  },
  {
   "cell_type": "markdown",
   "metadata": {},
   "source": [
    "<h3>1.</h3>\n",
    "Escribí un programa que solicite al usuario ingresar la cantidad de kilómetros recorridos por una motocicleta y la cantidad de litros de combustible que consumió durante ese recorrido. Mostrar el consumo de combustible por kilómetro."
   ]
  },
  {
   "cell_type": "markdown",
   "metadata": {},
   "source": [
    "<code>Kilómetros recorridos: 260\n",
    "Litros de combustible gastados: 12.5\n",
    "El consumo por kilómetro es de 20.8<code>"
   ]
  },
  {
   "cell_type": "code",
   "execution_count": 2,
   "metadata": {},
   "outputs": [
    {
     "name": "stdin",
     "output_type": "stream",
     "text": [
      "Cuantos kilometros recorriste con la motocicleta? 260\n",
      "Cuantos litros de combustible consumiste? 12.5\n"
     ]
    },
    {
     "name": "stdout",
     "output_type": "stream",
     "text": [
      "El consumo por kilómetro es de 0.04807692307692308\n"
     ]
    }
   ],
   "source": [
    "km=float(input(\"Cuantos kilometros recorriste con la motocicleta?\"))\n",
    "lit=float(input(\"Cuantos litros de combustible consumiste?\"))\n",
    "resultado=lit/km\n",
    "print(\"El consumo por kilómetro es de\" ,resultado)"
   ]
  },
  {
   "cell_type": "markdown",
   "metadata": {},
   "source": [
    "### 2.\n",
    "Escriba un programa que pida los coeficientes de una ecuación de segundo grado <code>(a x² + b x + c = 0)</code> y escriba la solución.\n",
    "\n",
    "Se recuerda que una ecuación de segundo grado puede no tener solución, tener una solución única, tener dos soluciones o que todos los números sean solución."
   ]
  },
  {
   "cell_type": "markdown",
   "metadata": {},
   "source": [
    "<img src='https://i.pinimg.com/originals/d3/f7/01/d3f701528ad56ce0f5a98d7c91722fd7.png'>"
   ]
  },
  {
   "cell_type": "markdown",
   "metadata": {},
   "source": [
    "Su programa debe indicar:\n",
    "- En caso la ecuación cuadrática tenga solución real, su programa debe brindar la solución\n",
    "- En caso su ecuación no tenga solución real, su programa debe brindar un mensaje que diga \"Ecuación no presenta solución real\""
   ]
  },
  {
   "cell_type": "code",
   "execution_count": 9,
   "metadata": {},
   "outputs": [
    {
     "name": "stdin",
     "output_type": "stream",
     "text": [
      "Ingrese el primer coeficiente:  1\n",
      "Ingrese el segundo coeficiente:  2\n",
      "Ingrese el tercer coeficiente:  1\n"
     ]
    },
    {
     "name": "stdout",
     "output_type": "stream",
     "text": [
      "El discriminante es:  0.0\n",
      "Existe una solucion doble: \n",
      "La solución con doble valor es:  1.0\n"
     ]
    }
   ],
   "source": [
    "a=float(input(\"Ingrese el primer coeficiente: \"))\n",
    "b=float(input(\"Ingrese el segundo coeficiente: \"))\n",
    "c=float(input(\"Ingrese el tercer coeficiente: \"))\n",
    "disc=(b**2)-(4*a)*c\n",
    "print('El discriminante es: ',disc)\n",
    "\n",
    "if disc > 0:\n",
    "    print(\"Existen dos soluciones distintas: \")\n",
    "    x1=(-b+((b*2)-(4*a*c))*(1/2))/(2*a)\n",
    "    x2=(-b-((b*2)-(4*a*c))*(1/2))/(2*a)\n",
    "    print(\"solucion valor 1: \" ,x1)\n",
    "    print(\"solucion valor 2: \" ,x2)\n",
    "elif disc == 0:\n",
    "    x=b/(2*a)\n",
    "    print(\"Existe una solucion doble: \")\n",
    "    print (\"La solución con doble valor es: \" ,x)\n",
    "elif disc <0:\n",
    "    print(\"Ecuación no presenta una solución real.\")"
   ]
  }
 ],
 "metadata": {
  "kernelspec": {
   "display_name": "Python 3",
   "language": "python",
   "name": "python3"
  },
  "language_info": {
   "codemirror_mode": {
    "name": "ipython",
    "version": 3
   },
   "file_extension": ".py",
   "mimetype": "text/x-python",
   "name": "python",
   "nbconvert_exporter": "python",
   "pygments_lexer": "ipython3",
   "version": "3.8.3"
  }
 },
 "nbformat": 4,
 "nbformat_minor": 4
}
