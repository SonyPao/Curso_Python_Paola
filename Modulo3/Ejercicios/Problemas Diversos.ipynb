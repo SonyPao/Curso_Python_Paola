{
 "cells": [
  {
   "cell_type": "markdown",
   "metadata": {},
   "source": [
    "# PROBLEMAS DIVERSOS"
   ]
  },
  {
   "cell_type": "markdown",
   "metadata": {},
   "source": [
    "<h3>1.</h3>\n",
    "Realizar una función que permita la carga de n alumnos. Por cada alumno se deberá preguntar el nombre completo y permitir el ingreso de 3 notas. Las notas deben estar comprendidas entre 0 y 10. Devolver el listado de alumnos."
   ]
  },
  {
   "cell_type": "code",
   "execution_count": 1,
   "metadata": {},
   "outputs": [
    {
     "name": "stdin",
     "output_type": "stream",
     "text": [
      "Ingrese el número de alumnos  3\n"
     ]
    }
   ],
   "source": [
    "alumnos=[]\n",
    "num=int(input(\"Ingrese el número de alumnos \"))"
   ]
  },
  {
   "cell_type": "code",
   "execution_count": 2,
   "metadata": {},
   "outputs": [
    {
     "name": "stdin",
     "output_type": "stream",
     "text": [
      "Ingrese el nombre completo del alumno:  p\n",
      "Ingrese la nota 1 del alumno  5\n",
      "Ingrese la nota 2 del alumno  6\n",
      "Ingrese la nota 3 del alumno  8\n",
      "Ingrese el nombre completo del alumno:  l\n",
      "Ingrese la nota 1 del alumno  7\n",
      "Ingrese la nota 2 del alumno  6\n",
      "Ingrese la nota 3 del alumno  5\n",
      "Ingrese el nombre completo del alumno:  m\n",
      "Ingrese la nota 1 del alumno  7\n",
      "Ingrese la nota 2 del alumno  4\n",
      "Ingrese la nota 3 del alumno  2\n"
     ]
    }
   ],
   "source": [
    "listado_alumnos=[]\n",
    "for i in range(num):\n",
    "    nomb=input(\"Ingrese el nombre completo del alumno: \")\n",
    "    nota1=int(input(\"Ingrese la nota 1 del alumno \"))\n",
    "    nota2=int(input(\"Ingrese la nota 2 del alumno \"))\n",
    "    nota3=int(input(\"Ingrese la nota 3 del alumno \"))\n",
    "    alumnos={'nombre':nomb,'notas':[nota1,nota2,nota3]}\n",
    "    listado_alumnos.append(alumnos)"
   ]
  },
  {
   "cell_type": "code",
   "execution_count": 3,
   "metadata": {},
   "outputs": [
    {
     "name": "stdout",
     "output_type": "stream",
     "text": [
      "[{'nombre': 'p', 'notas': [5, 6, 8]}, {'nombre': 'l', 'notas': [7, 6, 5]}, {'nombre': 'm', 'notas': [7, 4, 2]}]\n"
     ]
    }
   ],
   "source": [
    "print(listado_alumnos)"
   ]
  },
  {
   "cell_type": "markdown",
   "metadata": {},
   "source": [
    "### 2.\n",
    "Definir una función que dado un listado de alumnos evalúe cuántos aprobaron y cuántos desaprobaron, teniendo en cuenta que se aprueba con 4. La nota será el promedio de las 3 notas para cada alumno."
   ]
  },
  {
   "cell_type": "code",
   "execution_count": null,
   "metadata": {},
   "outputs": [],
   "source": [
    "alumnos=[]\n",
    "num=int(input(\"Ingrese el número de alumnos \"))\n",
    "listado_alumnos1=[]\n",
    "listado_alumnos2=[]\n",
    "aprobados=[]\n",
    "alumnos_aprob=[]\n",
    "for i in range(num):\n",
    "    nomb=input(\"Ingrese el nombre completo del alumno: \")\n",
    "    nota1=int(input(\"Ingrese la nota 1 del alumno \"))\n",
    "    nota2=int(input(\"Ingrese la nota 2 del alumno \"))\n",
    "    nota3=int(input(\"Ingrese la nota 3 del alumno \"))\n",
    "    nota= (nota1+nota2+nota3)/3\n",
    "    if nota >= 4:\n",
    "    aprobados={'nombre':nomb,'estado':aprobado}\n",
    "    listado_alumnos1.append(aprobados)\n",
    "    else \n",
    "    alumnos={'nombre':nomb,'estado':desaprobado}\n",
    "    listado_alumnos2.append(desaprobados)\n",
    "  \n",
    "    print(listado_alumnos1)\n",
    "    print('El número de aprobados es',len(listado_alumnos1))"
   ]
  },
  {
   "cell_type": "markdown",
   "metadata": {},
   "source": [
    "### 3.\n",
    "Informar el promedio de nota del curso total."
   ]
  },
  {
   "cell_type": "code",
   "execution_count": null,
   "metadata": {},
   "outputs": [],
   "source": [
    "notas=[20,17]\n",
    "print( \"Las calificaciones son: \",notas)\n",
    "promedio_notas = sum(notas)/n  \n",
    "print(\"El promedio total del curso es: \", float(promedio_notas))"
   ]
  },
  {
   "cell_type": "code",
   "execution_count": null,
   "metadata": {},
   "outputs": [],
   "source": []
  },
  {
   "cell_type": "markdown",
   "metadata": {},
   "source": [
    "### 4.\n",
    "Realizar una función que indique quién tuvo el promedio más alto y quién tuvo la nota promedio más baja."
   ]
  },
  {
   "cell_type": "code",
   "execution_count": null,
   "metadata": {},
   "outputs": [],
   "source": [
    "mayornota=list[notas.index(max(notas))]\n",
    "print (\"Nota más alta: \",mayornota)\n",
    "\n",
    "minimanota=list[notas.index(min(notas))]\n",
    "print (\"Nota más baja: \",minimanota)"
   ]
  },
  {
   "cell_type": "code",
   "execution_count": null,
   "metadata": {},
   "outputs": [],
   "source": []
  },
  {
   "cell_type": "code",
   "execution_count": null,
   "metadata": {},
   "outputs": [],
   "source": []
  },
  {
   "cell_type": "markdown",
   "metadata": {},
   "source": [
    "### 5.\n",
    "Realizar una función que permita buscar un alumno por nombre, siendo el nombre completo o parcial, y devuelva una lista con los n alumnos que concuerden con ese nombre junto con todos sus datos, incluido el promedio de sus notas."
   ]
  },
  {
   "cell_type": "code",
   "execution_count": null,
   "metadata": {},
   "outputs": [],
   "source": [
    "f=input(\"Buscar un alumno por nombre\")\n",
    "if True:\n",
    "    f in list\n",
    "    print(\"Presente en la lista\")\n",
    "    print(\"el promedio de sus notas es: \", notas[list.index(f)])\n",
    "   \n",
    "   else:\n",
    "    print(\"no esta en la lista\")"
   ]
  }
 ],
 "metadata": {
  "kernelspec": {
   "display_name": "Python 3",
   "language": "python",
   "name": "python3"
  },
  "language_info": {
   "codemirror_mode": {
    "name": "ipython",
    "version": 3
   },
   "file_extension": ".py",
   "mimetype": "text/x-python",
   "name": "python",
   "nbconvert_exporter": "python",
   "pygments_lexer": "ipython3",
   "version": "3.8.3"
  }
 },
 "nbformat": 4,
 "nbformat_minor": 4
}
