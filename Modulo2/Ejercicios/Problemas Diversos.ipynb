{
 "cells": [
  {
   "cell_type": "markdown",
   "metadata": {},
   "source": [
    "# PROBLEMAS DIVERSOS"
   ]
  },
  {
   "cell_type": "markdown",
   "metadata": {},
   "source": [
    "<h3>1.</h3>\n",
    "Realizar una función que permita la carga de n alumnos. Por cada alumno se deberá preguntar el nombre completo y permitir el ingreso de 3 notas. Las notas deben estar comprendidas entre 0 y 10. Devolver el listado de alumnos."
   ]
  },
  {
   "cell_type": "code",
   "execution_count": 16,
   "metadata": {},
   "outputs": [
    {
     "name": "stdin",
     "output_type": "stream",
     "text": [
      "Ingrese el número de alumnos  3\n",
      "Ingrese el nombre completo del alumno:  pao\n",
      "Ingrese la nota 1 del alumno  8\n",
      "Ingrese la nota 2 del alumno  9\n",
      "Ingrese la nota 3 del alumno  10\n"
     ]
    },
    {
     "name": "stdout",
     "output_type": "stream",
     "text": [
      "[{'nombre': 'pao', 'notas': [8, 9, 10]}]\n"
     ]
    },
    {
     "name": "stdin",
     "output_type": "stream",
     "text": [
      "Ingrese el nombre completo del alumno:  miguel\n",
      "Ingrese la nota 1 del alumno  7\n",
      "Ingrese la nota 2 del alumno  6\n",
      "Ingrese la nota 3 del alumno  5\n"
     ]
    },
    {
     "name": "stdout",
     "output_type": "stream",
     "text": [
      "[{'nombre': 'pao', 'notas': [8, 9, 10]}, {'nombre': 'miguel', 'notas': [7, 6, 5]}]\n"
     ]
    },
    {
     "name": "stdin",
     "output_type": "stream",
     "text": [
      "Ingrese el nombre completo del alumno:  luis\n",
      "Ingrese la nota 1 del alumno  7\n",
      "Ingrese la nota 2 del alumno  4\n",
      "Ingrese la nota 3 del alumno  8\n"
     ]
    },
    {
     "name": "stdout",
     "output_type": "stream",
     "text": [
      "[{'nombre': 'pao', 'notas': [8, 9, 10]}, {'nombre': 'miguel', 'notas': [7, 6, 5]}, {'nombre': 'luis', 'notas': [7, 4, 8]}]\n"
     ]
    }
   ],
   "source": [
    "#FORMA CORTA\n",
    "alumnos=[]\n",
    "num=int(input(\"Ingrese el número de alumnos \"))\n",
    "listado_alumnos=[]\n",
    "for i in range(num):\n",
    "    nomb=input(\"Ingrese el nombre completo del alumno: \")\n",
    "    nota1=int(input(\"Ingrese la nota 1 del alumno \"))\n",
    "    nota2=int(input(\"Ingrese la nota 2 del alumno \"))\n",
    "    nota3=int(input(\"Ingrese la nota 3 del alumno \"))\n",
    "    alumnos={'nombre':nomb,'notas':[nota1,nota2,nota3]}\n",
    "    listado_alumnos.append(alumnos)\n",
    "    print(listado_alumnos)"
   ]
  },
  {
   "cell_type": "code",
   "execution_count": 1,
   "metadata": {},
   "outputs": [
    {
     "name": "stdin",
     "output_type": "stream",
     "text": [
      "¿Cuantos alumnos va registrar? 3\n",
      "Nombre de alumno1:  Pao\n",
      "Nota 1 (Del 0-10):  10\n",
      "Nota 2 (Del 0-10):  09\n",
      "Nota 3 (Del 0-10):  08\n",
      "Nombre de alumno2:  Luis\n",
      "Nota 1 (Del 0-10):  07\n",
      "Nota 2 (Del 0-10):  08\n",
      "Nota 3 (Del 0-10):  09\n",
      "Nombre de alumno3:  Diego\n",
      "Nota 1 (Del 0-10):  06\n",
      "Nota 2 (Del 0-10):  08\n",
      "Nota 3 (Del 0-10):  07\n"
     ]
    }
   ],
   "source": [
    "#FORMA LARGA\n",
    "n=input('¿Cuantos alumnos va registrar?')\n",
    "a1=input('Nombre de alumno1: ')\n",
    "n1_a1=input('Nota 1 (Del 0-10): ')\n",
    "n2_a1=input('Nota 2 (Del 0-10): ')\n",
    "n3_a1=input('Nota 3 (Del 0-10): ')\n",
    "notas_a1=[]\n",
    "notas_a1.append(n1_a1)\n",
    "notas_a1.append(n2_a1)\n",
    "notas_a1.append(n3_a1)\n",
    "# print(notas_a1)\n",
    "\n",
    "a2=input('Nombre de alumno2: ')\n",
    "n1_a2=input('Nota 1 (Del 0-10): ')\n",
    "n2_a2=input('Nota 2 (Del 0-10): ')\n",
    "n3_a2=input('Nota 3 (Del 0-10): ')\n",
    "notas_a2=[]\n",
    "notas_a2.append(n1_a2)\n",
    "notas_a2.append(n2_a2)\n",
    "notas_a2.append(n3_a2)\n",
    "\n",
    "a3=input('Nombre de alumno3: ')\n",
    "n1_a3=input('Nota 1 (Del 0-10): ')\n",
    "n2_a3=input('Nota 2 (Del 0-10): ')\n",
    "n3_a3=input('Nota 3 (Del 0-10): ')\n",
    "notas_a3=[]\n",
    "notas_a3.append(n1_a3)\n",
    "notas_a3.append(n2_a3)\n",
    "notas_a3.append(n3_a3)\n",
    "\n",
    "# a2=input('Nombre de alumno2: ')\n",
    "# a3=input('Nombre de alumno3: ')"
   ]
  },
  {
   "cell_type": "code",
   "execution_count": 2,
   "metadata": {},
   "outputs": [
    {
     "data": {
      "text/plain": [
       "{'Pao': ['10', '09', '08'],\n",
       " 'Luis': ['07', '08', '09'],\n",
       " 'Diego': ['06', '08', '07']}"
      ]
     },
     "execution_count": 2,
     "metadata": {},
     "output_type": "execute_result"
    }
   ],
   "source": [
    "alumnos={a1:notas_a1,a2:notas_a2,a3:notas_a3}\n",
    "alumnos"
   ]
  },
  {
   "cell_type": "markdown",
   "metadata": {},
   "source": [
    "### 2.\n",
    "Definir una función que dado un listado de alumnos evalúe cuántos aprobaron y cuántos desaprobaron, teniendo en cuenta que se aprueba con 4. La nota será el promedio de las 3 notas para cada alumno."
   ]
  },
  {
   "cell_type": "code",
   "execution_count": null,
   "metadata": {},
   "outputs": [],
   "source": [
    "alumnos=[]\n",
    "num=int(input(\"Ingrese el número de alumnos \"))\n",
    "listado_alumnos1=[]\n",
    "listado_alumnos2=[]\n",
    "aprobados=[]\n",
    "alumnos_aprob=[]\n",
    "for i in range(num):\n",
    "    nomb=input(\"Ingrese el nombre completo del alumno: \")\n",
    "    nota1=int(input(\"Ingrese la nota 1 del alumno \"))\n",
    "    nota2=int(input(\"Ingrese la nota 2 del alumno \"))\n",
    "    nota3=int(input(\"Ingrese la nota 3 del alumno \"))\n",
    "    nota= (nota1+nota2+nota3)/3\n",
    "    if nota >= 4:\n",
    "    aprobados={'nombre':nomb,'estado':aprobado}\n",
    "    listado_alumnos1.append(aprobados)\n",
    "    else \n",
    "    alumnos={'nombre':nomb,'estado':desaprobado}\n",
    "    listado_alumnos2.append(desaprobados)\n",
    "  \n",
    "    print(listado_alumnos1)\n",
    "    print('El número de aprobados es',len(listado_alumnos1))"
   ]
  },
  {
   "cell_type": "markdown",
   "metadata": {},
   "source": [
    "### 3.\n",
    "Informar el promedio de nota del curso total."
   ]
  },
  {
   "cell_type": "code",
   "execution_count": null,
   "metadata": {},
   "outputs": [],
   "source": [
    "notas=[20,17]\n",
    "print( \"Las calificaciones son: \",notas)\n",
    "promedio_notas = sum(notas)/n  \n",
    "print(\"El promedio total del curso es: \", float(promedio_notas))"
   ]
  },
  {
   "cell_type": "markdown",
   "metadata": {},
   "source": [
    "### 4.\n",
    "Realizar una función que indique quién tuvo el promedio más alto y quién tuvo la nota promedio más baja."
   ]
  },
  {
   "cell_type": "code",
   "execution_count": null,
   "metadata": {},
   "outputs": [],
   "source": [
    "mayornota=list[notas.index(max(notas))]\n",
    "print (\"Nota más alta: \",mayornota)\n",
    "\n",
    "minimanota=list[notas.index(min(notas))]\n",
    "print (\"Nota más baja: \",minimanota)"
   ]
  },
  {
   "cell_type": "markdown",
   "metadata": {},
   "source": [
    "### 5.\n",
    "Realizar una función que permita buscar un alumno por nombre, siendo el nombre completo o parcial, y devuelva una lista con los n alumnos que concuerden con ese nombre junto con todos sus datos, incluido el promedio de sus notas."
   ]
  },
  {
   "cell_type": "code",
   "execution_count": null,
   "metadata": {},
   "outputs": [],
   "source": [
    "f=input(\"Buscar un alumno por nombre\")\n",
    "if True:\n",
    "    f in list\n",
    "    print(\"Presente en la lista\")\n",
    "    print(\"el promedio de sus notas es: \", notas[list.index(f)])\n",
    "   \n",
    "   else:\n",
    "    print(\"no esta en la lista\")"
   ]
  }
 ],
 "metadata": {
  "kernelspec": {
   "display_name": "Python 3",
   "language": "python",
   "name": "python3"
  },
  "language_info": {
   "codemirror_mode": {
    "name": "ipython",
    "version": 3
   },
   "file_extension": ".py",
   "mimetype": "text/x-python",
   "name": "python",
   "nbconvert_exporter": "python",
   "pygments_lexer": "ipython3",
   "version": "3.8.3"
  }
 },
 "nbformat": 4,
 "nbformat_minor": 4
}
